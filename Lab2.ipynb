{
 "cells": [
  {
   "cell_type": "code",
   "execution_count": 30,
   "id": "8c8debb3-99dc-48a8-9222-9a6039a39c12",
   "metadata": {
    "scrolled": true
   },
   "outputs": [],
   "source": [
    "# A1\n",
    "import pandas as pd\n",
    "import numpy as np      \n",
    "def load_excel():\n",
    "    columns=['Customer','Candies (#)','Mangoes (Kg)', 'Milk Packets (#)','Payment (Rs)']\n",
    "    df = pd.read_excel(\"C:\\\\Users\\\\everybody\\\\Amrita University\\\\sem 5\\\\Machine learning\\\\Lab Session Data.xlsx\",usecols=columns)\n",
    "    return df\n",
    " \n",
    "def convert_to_matrices(df):\n",
    "    df_numerical = df.select_dtypes(include='number')\n",
    "    df1 = df_numerical[['Candies (#)','Mangoes (Kg)','Milk Packets (#)']]\n",
    "    df2 = df_numerical[['Payment (Rs)']]\n",
    "    m1 = df1.values\n",
    "    m2 = df2.values\n",
    "    return m1,m2\n",
    "\n",
    "def dimensionality(matrix):\n",
    "    return matrix.shape[1]\n",
    "    \n",
    "def rank(matrix):\n",
    "    return np.linalg.matrix_rank(matrix)\n",
    "\n",
    "def finding_variables(matrix1,matrix2):\n",
    "    matrix_inv = np.linalg.pinv(matrix1)\n",
    "    return np.dot(matrix_inv,matrix2)\n"
   ]
  },
  {
   "cell_type": "code",
   "execution_count": 40,
   "id": "fb803942-c548-4a52-9b10-e0ade73c133b",
   "metadata": {
    "scrolled": true
   },
   "outputs": [
    {
     "name": "stdout",
     "output_type": "stream",
     "text": [
      "  Customer  Candies (#)  Mangoes (Kg)  Milk Packets (#)  Payment (Rs)\n",
      "0      C_1           20             6                 2           386\n",
      "1      C_2           16             3                 6           289\n",
      "2      C_3           27             6                 2           393\n",
      "3      C_4           19             1                 2           110\n",
      "4      C_5           24             4                 2           280\n",
      "The dimensionality of the vector space is 3\n",
      "The rank of Matrix A is 3\n",
      "The values of the first second and third project is:[1.],[55.],[18.]\n"
     ]
    }
   ],
   "source": [
    "# A1\n",
    "def main():\n",
    "    # loading excel sheet into notebook\n",
    "    df = load_excel()\n",
    "    print(df.head())\n",
    "    # generating the matrices\n",
    "    A,C = convert_to_matrices(df)\n",
    "    #finding dimensionality of the matrix\n",
    "    dimension = dimensionality(A)\n",
    "    print(f\"The dimensionality of the vector space is {dimension}\")\n",
    "    #finding the rank of the matrix\n",
    "    A_rank = rank(A)\n",
    "    print(f\"The rank of Matrix A is {A_rank}\")\n",
    "    # finding the values of the variables\n",
    "    variable_matrix = finding_variables(A,C)\n",
    "    print(f\"The values of the first second and third project is:{variable_matrix[0]},{variable_matrix[1]},{variable_matrix[2]}\")\n",
    "    \n",
    "\n",
    "if __name__ == \"__main__\":\n",
    "    main()"
   ]
  },
  {
   "cell_type": "code",
   "execution_count": 87,
   "id": "57bf914f-6bb6-4cdb-9f4b-3a1a688ef1a6",
   "metadata": {},
   "outputs": [],
   "source": [
    "#A3\n",
    "import pandas as pd\n",
    "from sklearn.model_selection import train_test_split\n",
    "from sklearn.linear_model import LogisticRegression\n",
    "from sklearn.metrics import classification_report, accuracy_score\n",
    "\n",
    "# classifying as rich or poor\n",
    "def classifying(df):\n",
    "    df['Status'] = df['Payment (Rs)'].apply(lambda x: 'RICH' if x > 200 else 'POOR')\n",
    "    return df\n",
    "    \n",
    "def train_evaluate_classifier(data, feature_columns, class_column):\n",
    "    X = data[feature_columns]\n",
    "    Y = data[class_column]\n",
    "    X_train, X_test, Y_train, Y_test = train_test_split(X, Y, test_size=0.5, random_state=37)\n",
    "    model = LogisticRegression()\n",
    "    model.fit(X_train,Y_train)\n",
    "    Y_pred = model.predict(X_test)\n",
    "    accuracy = accuracy_score(Y_test, Y_pred)\n",
    "    report = classification_report(Y_test, Y_pred)\n",
    "    return accuracy, report\n",
    "\n",
    "    \n",
    "      \n",
    "\n",
    "\n"
   ]
  },
  {
   "cell_type": "code",
   "execution_count": 103,
   "id": "0b216f52-e1c9-4221-8b4e-cf6753941acc",
   "metadata": {
    "scrolled": true
   },
   "outputs": [
    {
     "name": "stdout",
     "output_type": "stream",
     "text": [
      "accuracy: 0.8, report:               precision    recall  f1-score   support\n",
      "\n",
      "        POOR       0.50      1.00      0.67         1\n",
      "        RICH       1.00      0.75      0.86         4\n",
      "\n",
      "    accuracy                           0.80         5\n",
      "   macro avg       0.75      0.88      0.76         5\n",
      "weighted avg       0.90      0.80      0.82         5\n",
      "\n"
     ]
    }
   ],
   "source": [
    "import pandas as pd\n",
    "def main():\n",
    "    df = load_excel()\n",
    "    # classifying as rich or poor\n",
    "    df = classifying(df)\n",
    "    feature_columns = ['Candies (#)', 'Mangoes (Kg)', 'Milk Packets (#)']\n",
    "    class_column = 'Status'\n",
    "    accuracy, report = train_evaluate_classifier(df, feature_columns, class_column)\n",
    "    print(f\"accuracy: {accuracy}, report: {report}\")\n",
    "    \n",
    "if __name__ == \"__main__\":\n",
    "    main()"
   ]
  },
  {
   "cell_type": "code",
   "execution_count": null,
   "id": "b10a8a57-84c1-4427-90c3-c61a45cca165",
   "metadata": {},
   "outputs": [],
   "source": []
  },
  {
   "cell_type": "code",
   "execution_count": null,
   "id": "1294a751-fc8b-4d8b-b9ee-eeae4d9808c9",
   "metadata": {},
   "outputs": [],
   "source": []
  }
 ],
 "metadata": {
  "kernelspec": {
   "display_name": "Python 3 (ipykernel)",
   "language": "python",
   "name": "python3"
  },
  "language_info": {
   "codemirror_mode": {
    "name": "ipython",
    "version": 3
   },
   "file_extension": ".py",
   "mimetype": "text/x-python",
   "name": "python",
   "nbconvert_exporter": "python",
   "pygments_lexer": "ipython3",
   "version": "3.12.4"
  }
 },
 "nbformat": 4,
 "nbformat_minor": 5
}
