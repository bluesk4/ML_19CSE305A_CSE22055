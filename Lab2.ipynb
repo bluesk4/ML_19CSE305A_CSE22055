{
 "cells": [
  {
   "cell_type": "code",
   "execution_count": 11,
   "id": "8c8debb3-99dc-48a8-9222-9a6039a39c12",
   "metadata": {
    "scrolled": true
   },
   "outputs": [],
   "source": [
    "# A1\n",
    "import pandas as pd\n",
    "import numpy as np      \n",
    "def load_excel():\n",
    "    columns=['Customer','Candies (#)','Mangoes (Kg)', 'Milk Packets (#)','Payment (Rs)']\n",
    "    df = pd.read_excel(\"C:\\\\Users\\\\everybody\\\\Amrita University\\\\sem 5\\\\Machine learning\\\\Lab Session Data.xlsx\",usecols=columns)\n",
    "    return df\n",
    " \n",
    "def convert_to_matrices(df):\n",
    "    df_numerical = df.select_dtypes(include='number')\n",
    "    df1 = df_numerical[['Candies (#)','Mangoes (Kg)','Milk Packets (#)']]\n",
    "    df2 = df_numerical[['Payment (Rs)']]\n",
    "    m1 = df1.values\n",
    "    m2 = df2.values\n",
    "    return m1,m2\n",
    "\n",
    "def dimensionality(matrix):\n",
    "    return matrix.shape[1]\n",
    "    \n",
    "def rank(matrix):\n",
    "    return np.linalg.matrix_rank(matrix)\n",
    "\n",
    "def finding_variables(matrix1,matrix2):\n",
    "    matrix_inv = np.linalg.pinv(matrix1)\n",
    "    return np.dot(matrix_inv,matrix2)\n"
   ]
  },
  {
   "cell_type": "code",
   "execution_count": 13,
   "id": "fb803942-c548-4a52-9b10-e0ade73c133b",
   "metadata": {
    "scrolled": true
   },
   "outputs": [
    {
     "name": "stdout",
     "output_type": "stream",
     "text": [
      "  Customer  Candies (#)  Mangoes (Kg)  Milk Packets (#)  Payment (Rs)\n",
      "0      C_1           20             6                 2           386\n",
      "1      C_2           16             3                 6           289\n",
      "2      C_3           27             6                 2           393\n",
      "3      C_4           19             1                 2           110\n",
      "4      C_5           24             4                 2           280\n",
      "The dimensionality of the vector space is 3\n",
      "The rank of Matrix A is 3\n",
      "The values of the first second and third variables are:[1.],[55.],[18.]\n"
     ]
    }
   ],
   "source": [
    "# A1\n",
    "def main():\n",
    "    # loading excel sheet into notebook\n",
    "    df = load_excel()\n",
    "    print(df.head())\n",
    "    # generating the matrices\n",
    "    A,C = convert_to_matrices(df)\n",
    "    #finding dimensionality of the matrix\n",
    "    dimension = dimensionality(A)\n",
    "    print(f\"The dimensionality of the vector space is {dimension}\")\n",
    "    #finding the rank of the matrix\n",
    "    A_rank = rank(A)\n",
    "    print(f\"The rank of Matrix A is {A_rank}\")\n",
    "    # finding the values of the variables\n",
    "    variable_matrix = finding_variables(A,C)\n",
    "    print(f\"The values of the first second and third variables are:{variable_matrix[0]},{variable_matrix[1]},{variable_matrix[2]}\")\n",
    "\n",
    "if __name__ == \"__main__\":\n",
    "    main()"
   ]
  },
  {
   "cell_type": "code",
   "execution_count": 15,
   "id": "57bf914f-6bb6-4cdb-9f4b-3a1a688ef1a6",
   "metadata": {},
   "outputs": [],
   "source": [
    "#A3\n",
    "import pandas as pd\n",
    "from sklearn.model_selection import train_test_split\n",
    "from sklearn.linear_model import LogisticRegression\n",
    "from sklearn.metrics import classification_report, accuracy_score\n",
    "\n",
    "# classifying as rich or poor\n",
    "def classifying(df):\n",
    "    df['Status'] = df['Payment (Rs)'].apply(lambda x: 'RICH' if x > 200 else 'POOR')\n",
    "    return df\n",
    "    \n",
    "def train_evaluate_classifier(data, feature_columns, class_column):\n",
    "    X = data[feature_columns]\n",
    "    Y = data[class_column]\n",
    "    X_train, X_test, Y_train, Y_test = train_test_split(X, Y, test_size=0.5, random_state=37)\n",
    "    model = LogisticRegression()\n",
    "    model.fit(X_train,Y_train)\n",
    "    Y_pred = model.predict(X_test)\n",
    "    accuracy = accuracy_score(Y_test, Y_pred)\n",
    "    report = classification_report(Y_test, Y_pred)\n",
    "    return accuracy, report\n",
    "\n",
    "    \n",
    "      \n",
    "\n",
    "\n"
   ]
  },
  {
   "cell_type": "code",
   "execution_count": 16,
   "id": "0b216f52-e1c9-4221-8b4e-cf6753941acc",
   "metadata": {
    "scrolled": true
   },
   "outputs": [
    {
     "name": "stdout",
     "output_type": "stream",
     "text": [
      "accuracy: 0.8, report:               precision    recall  f1-score   support\n",
      "\n",
      "        POOR       0.50      1.00      0.67         1\n",
      "        RICH       1.00      0.75      0.86         4\n",
      "\n",
      "    accuracy                           0.80         5\n",
      "   macro avg       0.75      0.88      0.76         5\n",
      "weighted avg       0.90      0.80      0.82         5\n",
      "\n"
     ]
    }
   ],
   "source": [
    "import pandas as pd\n",
    "def main():\n",
    "    df = load_excel()\n",
    "    # classifying as rich or poor\n",
    "    df = classifying(df)\n",
    "    feature_columns = ['Candies (#)', 'Mangoes (Kg)', 'Milk Packets (#)']\n",
    "    class_column = 'Status'\n",
    "    accuracy, report = train_evaluate_classifier(df, feature_columns, class_column)\n",
    "    print(f\"accuracy: {accuracy}, report: {report}\")\n",
    "    \n",
    "if __name__ == \"__main__\":\n",
    "    main()"
   ]
  },
  {
   "cell_type": "code",
   "execution_count": 31,
   "id": "b10a8a57-84c1-4427-90c3-c61a45cca165",
   "metadata": {},
   "outputs": [],
   "source": [
    "#A4\n",
    "import pandas as pd\n",
    "import statistics\n",
    "def load_excel(filepath,columns,sheetindex):\n",
    "    df = pd.read_excel(filepath,usecols=columns,sheet_name=sheetindex)\n",
    "    return df\n",
    "def mean(df):\n",
    "    return statistics.mean(df['Price'])\n",
    "\n",
    "def variance(df):\n",
    "    return df['Price'].var()\n",
    "def sample_mean_day(df):\n",
    "    mean = df[df['Day'] == 'Wed']['Price'].mean()\n",
    "    return mean\n",
    "def sample_mean_month(df):\n",
    "    return df[df['Month'] == 'Apr']['Price'].mean()\n",
    "def prob_loss(df):\n",
    "    df['losses'] = df['Chg%'].apply(lambda x: 1 if x < 0 else 0)\n",
    "    return df['losses'].mean()\n",
    "def wed_prob_profit(df):\n",
    "    df['profit'] = df[df['Day'] == 'Wed']['Chg%'].apply(lambda x: 1 if x > 0 else 0)\n",
    "    return df['profit'].mean()\n",
    "def conditional_prob(df):\n",
    "    df['Date'] = pd.to_datetime(df['Date'])\n",
    "    is_wednesday = df['Date'].dt.day_name() == 'Wednesday'\n",
    "    is_profit = df['Chg%'] > 0\n",
    "    profitable_wednesdays = df[is_wednesday & is_profit].shape[0]\n",
    "    total_wednesdays = df[is_wednesday].shape[0]\n",
    "    conditional_probability = profitable_wednesdays / total_wednesdays if total_wednesdays > 0 else 0\n",
    "    return conditional_probability\n",
    "def scatter(df):\n",
    "    df.plot(x='Day', y='Chg%', kind='scatter')\n",
    "\n",
    "    \n",
    "    \n",
    "    "
   ]
  },
  {
   "cell_type": "code",
   "execution_count": 33,
   "id": "1294a751-fc8b-4d8b-b9ee-eeae4d9808c9",
   "metadata": {},
   "outputs": [
    {
     "name": "stdout",
     "output_type": "stream",
     "text": [
      "           Date Month  Day    Price     Open     High      Low   Volume  \\\n",
      "0  Jun 29, 2021   Jun  Tue  2081.85  2092.00  2126.90  2065.05    1.67M   \n",
      "1  Jun 28, 2021   Jun  Mon  2077.75  2084.00  2112.45  2068.40  707.73K   \n",
      "2  Jun 25, 2021   Jun  Fri  2068.85  2084.35  2088.50  2053.10  475.82K   \n",
      "3  Jun 24, 2021   Jun  Thu  2072.95  2098.00  2098.00  2066.00  541.51K   \n",
      "4  Jun 23, 2021   Jun  Wed  2078.25  2102.00  2111.40  2072.00  809.62K   \n",
      "\n",
      "     Chg%  \n",
      "0  0.0020  \n",
      "1  0.0043  \n",
      "2 -0.0020  \n",
      "3 -0.0026  \n",
      "4 -0.0023  \n",
      "The mean of the price column is 1560.663453815261\n",
      "The variance of the price column is 58732.36535253922\n",
      "The sample mean on wednesdays is 1550.7060000000001\n",
      "The sample mean in the month of April is 1698.9526315789474\n",
      "The probability of a loss is 0.4979919678714859\n",
      "The probability of making a profit on wednesdays is 0.42\n",
      "The conditional probability is 0.42\n"
     ]
    },
    {
     "data": {
      "image/png": "[encoded data removed]",
      "text/plain": [
       "<Figure size 640x480 with 1 Axes>"
      ]
     },
     "metadata": {},
     "output_type": "display_data"
    }
   ],
   "source": [
    "def main():\n",
    "    filepath = \"C:\\\\Users\\\\everybody\\\\Amrita University\\\\sem 5\\\\Machine learning\\\\Lab Session Data.xlsx\"\n",
    "    cols = ['Date','Month','Day','Price','Open','High','Low','Volume','Chg%']\n",
    "    df = load_excel(filepath,cols,1)\n",
    "    print(df.head())\n",
    "    # finding the mean\n",
    "    print(f\"The mean of the price column is {mean(df)}\")\n",
    "    #finding the variance of the price column\n",
    "    print(f\"The variance of the price column is {variance(df)}\")\n",
    "\n",
    "    # finding the mean for columns for price where the day is wednesday\n",
    "    print(f\"The sample mean on wednesdays is {sample_mean_day(df)}\")\n",
    "\n",
    "    #finding the sample mean for price columns whose month is April\n",
    "    print(f\"The sample mean in the month of April is {sample_mean_month(df)}\")\n",
    "\n",
    "    #finding the probability of loss\n",
    "    print(f\"The probability of a loss is {prob_loss(df)}\")\n",
    "    # finding the probaility of making a profit on wednesdays\n",
    "    print(f\"The probability of making a profit on wednesdays is {wed_prob_profit(df)}\")\n",
    "    # the conditional probability of making a profit given the fact its a wednesday\n",
    "    print(f\"The conditional probability is {conditional_prob(df)}\")\n",
    "\n",
    "    # scatter plot\n",
    "    scatter(df)\n",
    "    \n",
    "    \n",
    "    \n",
    "    \n",
    "\n",
    "if __name__ == \"__main__\":\n",
    "    main()"
   ]
  },
  {
   "cell_type": "code",
   "execution_count": null,
   "id": "32d98cce-7f55-48d0-9c39-12c4c60abb29",
   "metadata": {},
   "outputs": [],
   "source": []
  }
 ],
 "metadata": {
  "kernelspec": {
   "display_name": "Python 3 (ipykernel)",
   "language": "python",
   "name": "python3"
  },
  "language_info": {
   "codemirror_mode": {
    "name": "ipython",
    "version": 3
   },
   "file_extension": ".py",
   "mimetype": "text/x-python",
   "name": "python",
   "nbconvert_exporter": "python",
   "pygments_lexer": "ipython3",
   "version": "3.12.4"
  }
 },
 "nbformat": 4,
 "nbformat_minor": 5
}
